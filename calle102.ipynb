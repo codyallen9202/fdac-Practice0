{
  "cells": [
    {
      "cell_type": "markdown",
      "metadata": {
        "id": "view-in-github",
        "colab_type": "text"
      },
      "source": [
        "<a href=\"https://colab.research.google.com/github/codyallen9202/fdac-Practice0/blob/main/calle102.ipynb\" target=\"_parent\"><img src=\"https://colab.research.google.com/assets/colab-badge.svg\" alt=\"Open In Colab\"/></a>"
      ]
    },
    {
      "cell_type": "code",
      "source": [
        "!pip install bson"
      ],
      "metadata": {
        "id": "ifSoLXLTVtm0",
        "outputId": "fbe728a1-5d12-484a-89bb-e09a89ae2be2",
        "colab": {
          "base_uri": "https://localhost:8080/"
        }
      },
      "execution_count": 1,
      "outputs": [
        {
          "output_type": "stream",
          "name": "stdout",
          "text": [
            "Collecting bson\n",
            "  Downloading bson-0.5.10.tar.gz (10 kB)\n",
            "  Preparing metadata (setup.py) ... \u001b[?25l\u001b[?25hdone\n",
            "Requirement already satisfied: python-dateutil>=2.4.0 in /usr/local/lib/python3.10/dist-packages (from bson) (2.8.2)\n",
            "Requirement already satisfied: six>=1.9.0 in /usr/local/lib/python3.10/dist-packages (from bson) (1.16.0)\n",
            "Building wheels for collected packages: bson\n",
            "  Building wheel for bson (setup.py) ... \u001b[?25l\u001b[?25hdone\n",
            "  Created wheel for bson: filename=bson-0.5.10-py3-none-any.whl size=11975 sha256=e5396bd8c44d7721f0f5355535a6b01520826884ef7f24ac93a94b0f018729ba\n",
            "  Stored in directory: /root/.cache/pip/wheels/36/49/3b/8b33954dfae7a176009c4d721a45af56c8a9c1cdc3ee947945\n",
            "Successfully built bson\n",
            "Installing collected packages: bson\n",
            "Successfully installed bson-0.5.10\n"
          ]
        }
      ]
    },
    {
      "cell_type": "code",
      "source": [
        "!pip install pymongo"
      ],
      "metadata": {
        "id": "D3vZ2vxYV86C",
        "outputId": "c9877db5-3889-4c2f-cc65-32187173cfdf",
        "colab": {
          "base_uri": "https://localhost:8080/"
        }
      },
      "execution_count": 2,
      "outputs": [
        {
          "output_type": "stream",
          "name": "stdout",
          "text": [
            "Collecting pymongo\n",
            "  Downloading pymongo-4.8.0-cp310-cp310-manylinux_2_17_x86_64.manylinux2014_x86_64.whl.metadata (22 kB)\n",
            "Collecting dnspython<3.0.0,>=1.16.0 (from pymongo)\n",
            "  Downloading dnspython-2.6.1-py3-none-any.whl.metadata (5.8 kB)\n",
            "Downloading pymongo-4.8.0-cp310-cp310-manylinux_2_17_x86_64.manylinux2014_x86_64.whl (1.2 MB)\n",
            "\u001b[2K   \u001b[90m━━━━━━━━━━━━━━━━━━━━━━━━━━━━━━━━━━━━━━━━\u001b[0m \u001b[32m1.2/1.2 MB\u001b[0m \u001b[31m36.6 MB/s\u001b[0m eta \u001b[36m0:00:00\u001b[0m\n",
            "\u001b[?25hDownloading dnspython-2.6.1-py3-none-any.whl (307 kB)\n",
            "\u001b[2K   \u001b[90m━━━━━━━━━━━━━━━━━━━━━━━━━━━━━━━━━━━━━━━━\u001b[0m \u001b[32m307.7/307.7 kB\u001b[0m \u001b[31m19.5 MB/s\u001b[0m eta \u001b[36m0:00:00\u001b[0m\n",
            "\u001b[?25hInstalling collected packages: dnspython, pymongo\n",
            "Successfully installed dnspython-2.6.1 pymongo-4.8.0\n"
          ]
        }
      ]
    },
    {
      "cell_type": "code",
      "execution_count": 3,
      "metadata": {
        "id": "UVLRNFSvVajV",
        "outputId": "fc12bccf-e61a-4ea8-c625-bd7dce873845",
        "colab": {
          "base_uri": "https://localhost:8080/"
        }
      },
      "outputs": [
        {
          "output_type": "stream",
          "name": "stdout",
          "text": [
            "IPython version:      %6.6s 7.34.0\n"
          ]
        }
      ],
      "source": [
        "import IPython\n",
        "import json\n",
        "# Numpy is a library for working with Arrays\n",
        "import numpy as np\n",
        "# SciPy implements many different numerical algorithms\n",
        "import scipy as sp\n",
        "# Pandas is good with data tables\n",
        "import pandas as pd\n",
        "# Module for plotting\n",
        "import matplotlib\n",
        "#BeautifulSoup parses HTML documents (once you get them via requests)\n",
        "import bs4\n",
        "# Nltk helps with some natural language tasks, like stemming\n",
        "import nltk\n",
        "# Bson is a binary format of json to be stored in databases\n",
        "import bson\n",
        "# Mongo is one of common nosql databases\n",
        "# it stores/searches json documents natively\n",
        "import pymongo\n",
        "print (\"IPython version:      %6.6s\", IPython.__version__)"
      ]
    },
    {
      "cell_type": "code",
      "execution_count": 4,
      "metadata": {
        "id": "crZEbnGxVajW",
        "outputId": "3215b25c-de58-4022-a69d-a75ef81d423e",
        "colab": {
          "base_uri": "https://localhost:8080/"
        }
      },
      "outputs": [
        {
          "output_type": "stream",
          "name": "stdout",
          "text": [
            "Make a 2 row x 3 column array of random numbers\n",
            "[[0.44512677 0.53079947 0.8297246 ]\n",
            " [0.45036506 0.85247444 0.61911345]]\n",
            "Add 5 to every element\n",
            "[[5.44512677 5.53079947 5.8297246 ]\n",
            " [5.45036506 5.85247444 5.61911345]]\n",
            "Get the first row\n",
            "[5.44512677 5.53079947 5.8297246 ]\n"
          ]
        }
      ],
      "source": [
        "#Here is what numpy can do\\n\",\n",
        "print (\"Make a 2 row x 3 column array of random numbers\")\n",
        "x = np.random.random((2, 3))\n",
        "print (x)\n",
        "\n",
        "#array operation (as in R)\n",
        "print (\"Add 5 to every element\")\n",
        "x = x + 5\n",
        "print (x)\n",
        "\n",
        "# get a slice (first row) (as in R)\n",
        "print (\"Get the first row\")\n",
        "print (x[0, :])"
      ]
    },
    {
      "cell_type": "code",
      "execution_count": 5,
      "metadata": {
        "id": "vTcScKSNVajW",
        "outputId": "38f6fc41-a62c-482b-f997-35c83dec2dfd",
        "colab": {
          "base_uri": "https://localhost:8080/"
        }
      },
      "outputs": [
        {
          "output_type": "execute_result",
          "data": {
            "text/plain": [
              "<function ndarray.any>"
            ]
          },
          "metadata": {},
          "execution_count": 5
        }
      ],
      "source": [
        "# IPython is quite modern: just press <TAB> at the end of the unfinished statement to see the documentation\n",
        "#       on possible completions.\n",
        "#       In the code cell below, type x.<TAB>, to find built-in operations for x\n",
        "x.any"
      ]
    },
    {
      "cell_type": "code",
      "execution_count": 6,
      "metadata": {
        "id": "8DbGahJeVajX",
        "outputId": "ac4dffd0-94a0-486b-d860-65651db8c2ac",
        "colab": {
          "base_uri": "https://localhost:8080/",
          "height": 430
        }
      },
      "outputs": [
        {
          "output_type": "display_data",
          "data": {
            "text/plain": [
              "<Figure size 640x480 with 1 Axes>"
            ],
            "image/png": "[encoded data removed]"
          },
          "metadata": {}
        }
      ],
      "source": [
        "%matplotlib inline\n",
        "import matplotlib.pyplot as plt\n",
        "heads = np.random.binomial(500, .5, size=500)\n",
        "histogram = plt.hist(heads, bins=10)"
      ]
    },
    {
      "cell_type": "markdown",
      "metadata": {
        "collapsed": true,
        "id": "Cx0S6PAiVajX"
      },
      "source": [
        "# Task 1\n",
        "## write a program to produce Fibonacci numbers up to 1000000"
      ]
    },
    {
      "cell_type": "code",
      "execution_count": 14,
      "metadata": {
        "collapsed": true,
        "id": "AaeuGAGDVajY",
        "colab": {
          "base_uri": "https://localhost:8080/"
        },
        "outputId": "5dcdf425-0acf-4a2a-bf69-d71d3df76f57"
      },
      "outputs": [
        {
          "output_type": "stream",
          "name": "stdout",
          "text": [
            "0\n",
            "1\n",
            "1\n",
            "2\n",
            "3\n",
            "5\n",
            "8\n",
            "13\n",
            "21\n",
            "34\n",
            "55\n",
            "89\n",
            "144\n",
            "233\n",
            "377\n",
            "610\n",
            "987\n",
            "1597\n",
            "2584\n",
            "4181\n",
            "6765\n",
            "10946\n",
            "17711\n",
            "28657\n",
            "46368\n",
            "75025\n",
            "121393\n",
            "196418\n",
            "317811\n",
            "514229\n",
            "832040\n"
          ]
        }
      ],
      "source": [
        "a = 0;\n",
        "b = 1;\n",
        "c = 0;\n",
        "while (a < 1000000):\n",
        "  print(a);\n",
        "  c = b;\n",
        "  b = a + b;\n",
        "  a = c;"
      ]
    },
    {
      "cell_type": "markdown",
      "metadata": {
        "id": "z9gy1-EaVajZ"
      },
      "source": [
        "# Task 2\n",
        "## write a program to simulate 1000 tosses of a fair coin (use np.random.binomial)\n",
        "## Calculate the mean and standard deviation of that sample"
      ]
    },
    {
      "cell_type": "code",
      "execution_count": 13,
      "metadata": {
        "collapsed": true,
        "id": "7wXnhcIHVajZ",
        "colab": {
          "base_uri": "https://localhost:8080/"
        },
        "outputId": "66014b8f-bf9a-437b-b6cd-2f8e5d2d7faf"
      },
      "outputs": [
        {
          "output_type": "stream",
          "name": "stdout",
          "text": [
            "0.503\n",
            "0.4999909999189985\n"
          ]
        }
      ],
      "source": [
        "sum = np.random.binomial(1, .5, size=1000);\n",
        "mean = np.mean(sum);\n",
        "sd = np.std(sum);\n",
        "print(mean);\n",
        "print(sd);"
      ]
    },
    {
      "cell_type": "markdown",
      "metadata": {
        "id": "3ug709otVajZ"
      },
      "source": [
        "# Task 3\n",
        "## Produce a scatterplot of y = 0.5*x+e where x has gaussian (0, 5) and e has gaussian (0, 1) distributions\n",
        "### use numpy.random.normal to generate gaussian distribution"
      ]
    },
    {
      "cell_type": "code",
      "execution_count": 11,
      "metadata": {
        "collapsed": true,
        "id": "GxrcF0NvVaja",
        "colab": {
          "base_uri": "https://localhost:8080/",
          "height": 447
        },
        "outputId": "c5db294a-62c0-4cae-af01-cb4482b94f67"
      },
      "outputs": [
        {
          "output_type": "execute_result",
          "data": {
            "text/plain": [
              "<matplotlib.collections.PathCollection at 0x7a851d6c9b40>"
            ]
          },
          "metadata": {},
          "execution_count": 11
        },
        {
          "output_type": "display_data",
          "data": {
            "text/plain": [
              "<Figure size 640x480 with 1 Axes>"
            ],
            "image/png": "[encoded data removed]"
          },
          "metadata": {}
        }
      ],
      "source": [
        "import numpy as np\n",
        "import matplotlib.pyplot as plt\n",
        "\n",
        "x = np.random.normal(0, 5, 1000)\n",
        "e = np.random.normal(0, 1, 1000)\n",
        "y = 0.5 * x + e\n",
        "plt.scatter(x, y)"
      ]
    }
  ],
  "metadata": {
    "kernelspec": {
      "display_name": "Python 3",
      "language": "python",
      "name": "python3"
    },
    "language_info": {
      "codemirror_mode": {
        "name": "ipython",
        "version": 3
      },
      "file_extension": ".py",
      "mimetype": "text/x-python",
      "name": "python",
      "nbconvert_exporter": "python",
      "pygments_lexer": "ipython3",
      "version": "3.5.2"
    },
    "colab": {
      "provenance": [],
      "include_colab_link": true
    }
  },
  "nbformat": 4,
  "nbformat_minor": 0
}